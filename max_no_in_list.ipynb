{
  "nbformat": 4,
  "nbformat_minor": 0,
  "metadata": {
    "colab": {
      "provenance": [],
      "authorship_tag": "ABX9TyOKKIq8TOeZeE+4SdTgWWAq",
      "include_colab_link": true
    },
    "kernelspec": {
      "name": "python3",
      "display_name": "Python 3"
    },
    "language_info": {
      "name": "python"
    }
  },
  "cells": [
    {
      "cell_type": "markdown",
      "metadata": {
        "id": "view-in-github",
        "colab_type": "text"
      },
      "source": [
        "<a href=\"https://colab.research.google.com/github/Pooja27-web/Python-Hackerrank/blob/main/max_no_in_list.ipynb\" target=\"_parent\"><img src=\"https://colab.research.google.com/assets/colab-badge.svg\" alt=\"Open In Colab\"/></a>"
      ]
    },
    {
      "cell_type": "code",
      "execution_count": 3,
      "metadata": {
        "colab": {
          "base_uri": "https://localhost:8080/"
        },
        "id": "yGFj92OG5Or8",
        "outputId": "15b05ff2-db2b-4c7a-a1f0-99e410282f8d"
      },
      "outputs": [
        {
          "output_type": "stream",
          "name": "stdout",
          "text": [
            "5\n",
            "1\n",
            "1\n",
            "3\n",
            "3\n",
            "5\n",
            "5\n",
            "6\n",
            "6\n",
            "665\n",
            "665\n"
          ]
        }
      ],
      "source": [
        "a=int(input())\n",
        "list_1=[]\n",
        "for i in range(a):\n",
        "  list_1.append(int(input()))\n",
        "  print(max(list_1))\n"
      ]
    },
    {
      "cell_type": "code",
      "source": [],
      "metadata": {
        "id": "jd5TUX095RQ1"
      },
      "execution_count": null,
      "outputs": []
    }
  ]
}